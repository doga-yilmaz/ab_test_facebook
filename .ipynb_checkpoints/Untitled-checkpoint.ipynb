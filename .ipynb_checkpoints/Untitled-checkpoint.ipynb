{
 "cells": [
  {
   "cell_type": "markdown",
   "id": "83a762a1",
   "metadata": {},
   "source": [
    "<h1 style=\"color: blue;\">1. A Basic Explanation of A/B Testing</h1>\n",
    "\n",
    "A/B testing, or split testing, is a method used in marketing and product development to compare two versions of a web-page, app, or other content. One version (A) is the control, while the other (B) includes a single change or variation. The goal is to determine which version performs better by measuring metrics like click-through rates, conversion rates, or user engagement. A/B testing helps businesses make data-driven decisions to optimize their offerings and improve user experiences. It is a valuable tool for refining marketing strategies and product design."
   ]
  },
  {
   "cell_type": "markdown",
   "id": "58228797",
   "metadata": {},
   "source": [
    "<h1 style=\"color: blue;\">2. Hypothesis Testing</h1>\n",
    "\n",
    "* Null Hypothesis (H0): In A/B testing, the null hypothesis states that there is no significant difference between the control group (A) and the treatment group (B). It assumes that any observed difference is due to random chance or noise.\n",
    "\n",
    "* Alternative Hypothesis (H1): The alternative hypothesis in A/B testing posits that there is a significant difference between the control group (A) and the treatment group (B). It suggests that the observed difference is not due to random chance but is the result of the change or treatment being tested.\n",
    "\n",
    "<h3 style=\"color: brown;\">Example:</h3>\n",
    "\n",
    "* Null Hypothesis (H0): The change to the website's button color has no significant impact on click-through rates.\n",
    "* Alternative Hypothesis (H1): The change to the website's button color has a significant impact on click-through rates."
   ]
  },
  {
   "cell_type": "markdown",
   "id": "e19b6556",
   "metadata": {},
   "source": [
    "<h1 style=\"color: blue;\">3. Assumption Checking:</h1>\n",
    "Checking assumptions like normality and variance homogeneity is essential to ensure the validity of statistical tests:\n",
    "* Normality: This assumption assumes that the data in each group follows a normal distribution. You can visually inspect data with histograms or use statistical tests like the Shapiro-Wilk test.\n",
    "* Variance Homogeneity: This assumption assumes that the variances (spread) of data in different groups are roughly equal. Levene's test is a common method to assess this assumption.\n",
    "\n",
    "<h2 style=\"color: brown;\">Why assumption checking is crucial?</h2>\n",
    "\n",
    "1. Validity of Statistical Tests: The validity of the statistical tests used in A/B testing depends on certain assumptions being met. If these assumptions are violated, the results of the tests may be unreliable or incorrect. Therefore, checking assumptions is essential to ensure that the statistical tests used are appropriate for the data.\n",
    "\n",
    "2. Interpretability of Results: Assumption checks help you understand the quality of your data and the potential impact of violations on your results. It allows you to interpret your findings more accurately and make informed decisions based on the test outcomes.\n",
    "\n",
    "3. Comparison Fairness: A/B testing involves comparing two or more groups (e.g., old page vs. new page). To ensure a fair comparison, it's important that the groups are comparable in terms of the underlying distribution of the data. Violations of assumptions can introduce bias and make comparisons less valid.\n",
    "\n",
    "\n",
    "<h2 style=\"color: brown;\">What is Shapiro-Wilk Test?</h2>\n",
    "\n",
    "* The Shapiro-Wilk test is used to check the normality assumption. It assesses whether the data in a group follows a normal (Gaussian) distribution.\n",
    "\n",
    "* In A/B testing, normality is important because some parametric statistical tests, like the t-test, assume that the data is normally distributed. If your data is not normally distributed, you might need to consider non-parametric tests.\n",
    "\n",
    "* The test produces a p-value. If the p-value is less than your chosen significance level (e.g., 0.05), you may reject the null hypothesis, indicating that the data is not normally distributed.\n",
    "\n",
    "* A low p-value suggests that the data significantly deviates from a normal distribution, and you should consider non-parametric tests or transformations of the data.\n",
    "\n",
    "\n",
    "<h2 style=\"color: brown;\">What is Levene's Test?</h2>\n",
    "\n",
    "* Levene's test is used to check the assumption of homogeneity of variances (homoscedasticity). It assesses whether the variances in different groups are roughly equal.\n",
    "\n",
    "* In A/B testing, homogeneity of variances is important when performing parametric tests like the t-test. If the variances between groups are significantly different, it can affect the reliability of the test results.\n",
    "\n",
    "* The test produces a p-value. If the p-value is less than your chosen significance level, it may suggest that the variances are not homogeneous between groups.\n",
    "\n",
    "* If Levene's test indicates significant variance differences, you might need to consider alternative tests or transformations to address the issue."
   ]
  },
  {
   "cell_type": "markdown",
   "id": "44737b93",
   "metadata": {},
   "source": [
    "<h1 style=\"color: blue;\">4. Choosing The Right Tes</h1>\n",
    "\n",
    "The choice between parametric and non-parametric tests in A/B testing, or any statistical analysis, is primarily driven by the nature of your data and whether it meets certain assumptions. Here's why you might choose one type of test over the other:\n",
    "\n",
    "\n",
    "<h2 style=\"color: brown;\">Parametric Tests (e.g., t-test):</h2>\n",
    "\n",
    "**1. Assumption Met: You choose parametric tests when your data meets key assumptions, primarily:**\n",
    "\n",
    "* Normality: Data is normally distributed within each group (control and treatment).\n",
    "* Variance Homogeneity: Variances are roughly equal between the groups.\n",
    "\n",
    "**2. Advantages:**\n",
    "* Parametric tests are often more powerful (sensitive) than non-parametric tests when the assumptions are met. This means they are better at detecting true differences if they exist.\n",
    "* They provide more precise estimates of population parameters (e.g., means) and smaller confidence intervals.\n",
    "\n",
    "**3. Common Parametric Tests in A/B Testing:**\n",
    "* Independent Samples t-test: Used to compare means between two independent groups (e.g., control and treatment).\n",
    "\n",
    "\n",
    "<h2 style=\"color: brown;\">Non-Parametric Tests (e.g., Mann-Whitney U test):</h2>\n",
    "\n",
    "**1. Assumption Not Met:**\n",
    "* Non-parametric tests are chosen when your data violates the assumptions of normality or variance homogeneity. In other words, if your data doesn't meet these assumptions, you should opt for non-parametric tests.\n",
    "\n",
    "**2. Advantages:**\n",
    "* Non-parametric tests are robust to violations of normality and equal variance assumptions. They work well with skewed or non-normally distributed data.\n",
    "* They are more versatile and can be used in a wider range of scenarios, making them a safer choice when you're uncertain about the assumptions.\n",
    "\n",
    "**3. Common Non-Parametric Tests in A/B Testing:**\n",
    "* Mann-Whitney U test (also known as the Wilcoxon rank-sum test): Used to compare the distributions of two independent groups.\n",
    "\n",
    "\n",
    "<h2 style=\"color: brown;\">Why the Choice Matters:</h2>\n",
    "\n",
    "The choice between parametric and non-parametric tests matters because it affects the validity and reliability of your statistical analysis:\n",
    "\n",
    "* If you use a parametric test when assumptions are not met (e.g., data is not normally distributed), your results may be unreliable, and you could draw incorrect conclusions.\n",
    "* If you use a non-parametric test when your data meets the assumptions, you may be sacrificing statistical power and precision. Non-parametric tests are generally less powerful than their parametric counterparts when the assumptions are met.\n",
    "\n",
    "In A/B testing, it's crucial to make the appropriate choice based on your data characteristics. If you're unsure about the assumptions, it's often wise to perform both parametric and non-parametric tests and compare the results. This can help you assess the robustness of your findings and provide more confidence in your conclusions."
   ]
  },
  {
   "cell_type": "markdown",
   "id": "3660f447",
   "metadata": {},
   "source": [
    "# LET'S START"
   ]
  },
  {
   "cell_type": "markdown",
   "id": "745fc4d1",
   "metadata": {},
   "source": [
    "<h1 style=\"color: blue;\">A/B Testing for the Company's Facebook Advertisements</h1>\n",
    "\n",
    "\n",
    "<h2 style=\"color: brown;\">Subject:</h2>\n",
    "\n",
    "Facebook recently introduced a new bidding system called \"average bidding\"(test group) alongside the existing \"maximum bidding\"(control group) system. These bidding systems determine which ads get displayed to users based on how much advertisers are willing to pay.\n",
    "\n",
    "With \"maximum bidding,\" advertisers specify the maximum amount they are willing to pay for each impression. For example, an advertiser might say, \"I'm willing to pay a maximum of $10 for each impression.\"\n",
    "\n",
    "With \"average bidding,\" advertisers specify an average amount they are willing to pay for impressions. For instance, they might say, \"On average, I'm willing to pay $6 for each impression.\"\n",
    "\n",
    "Here's the key point: In this dataset, we've gathered the results of these two bidding strategies over the last 40 days to see which one is more effective at getting their ads displayed to the target audience.\n",
    "\n",
    "**Business problem is: Is there any significant difference between these two advertising methods?**\n",
    "\n",
    "In order to apply ab A/B test Normality and Variance Homogeneity assumptions should be satisfied.\n",
    "\n",
    "If the assumptions of normality and variance homogeneity are satisfied, a t-test (parametric test) will be applied to the columns being tested. If these assumptions are not met, the Mann-Whitney U Test (non-parametric test) will be used.\n",
    "\n",
    "**What's all that mean?**\n",
    "\n",
    "After examining the data that we have(exploratory data analysis); we will do following in order:\n",
    "\n",
    "**Normality Assumption Check:**\n",
    "\n",
    "* H0 (Null Hypothesis) The sample distribution is not significantly different from a theoretical normal distribution.\n",
    "* H1 (Alternative Hypothesis) The sample distribution is significantly different from a theoretical normal distribution.\n",
    "\n",
    "If P values of features less than 0.05 we are gonna fail to reject null hypothesis and we will assume that the features being tested are normally distributed. If p-value is greater than 0.05 \n",
    "\n",
    "If those features are normally distributed t-test will be applied. If not Mann-Whitney U Test will be applied.\n",
    "\n",
    "**Variance Homogeneity Check:**\n",
    "\n",
    "* H0 (Null hypothesis) There is no statistically significant difference in the variances of the groups being compared; variances are equal across groups(homoscedasticity)\n",
    "* H1 (Alternative Hypothesis) There is statistically significant difference in the variances of the groups being compared; variances are not equal across groups(heteroscedasticity)\n",
    "\n",
    "If P values of features less than 0.05 we are gonna fail reject null hypothesis and we will assume that the features being tested has statistically significant difference.\n",
    "\n",
    "If those features has no statistically significant difference t-test will be applied. If not Mann-Whitney U Test will be applied.\n"
   ]
  },
  {
   "cell_type": "markdown",
   "id": "23fc476f",
   "metadata": {},
   "source": [
    "# 1. GET FAMILIAR WITH THE DATA"
   ]
  },
  {
   "cell_type": "code",
   "execution_count": 1,
   "id": "d0e22dfa",
   "metadata": {},
   "outputs": [],
   "source": [
    "import pandas as pd\n",
    "import numpy as np\n",
    "import warnings\n",
    "warnings.filterwarnings('ignore')\n",
    "pd.set_option('display.float_format', lambda x: '%.4f' % x)"
   ]
  },
  {
   "cell_type": "code",
   "execution_count": 2,
   "id": "a6b6c635",
   "metadata": {},
   "outputs": [],
   "source": [
    "control_df = pd.read_csv('data/control_group.csv')\n",
    "test_df = pd.read_csv('data/test_group.csv')"
   ]
  },
  {
   "cell_type": "code",
   "execution_count": 3,
   "id": "b438d201",
   "metadata": {},
   "outputs": [
    {
     "data": {
      "text/html": [
       "<div>\n",
       "<style scoped>\n",
       "    .dataframe tbody tr th:only-of-type {\n",
       "        vertical-align: middle;\n",
       "    }\n",
       "\n",
       "    .dataframe tbody tr th {\n",
       "        vertical-align: top;\n",
       "    }\n",
       "\n",
       "    .dataframe thead th {\n",
       "        text-align: right;\n",
       "    }\n",
       "</style>\n",
       "<table border=\"1\" class=\"dataframe\">\n",
       "  <thead>\n",
       "    <tr style=\"text-align: right;\">\n",
       "      <th></th>\n",
       "      <th>Impression</th>\n",
       "      <th>Click</th>\n",
       "      <th>Purchase</th>\n",
       "      <th>Earning</th>\n",
       "    </tr>\n",
       "  </thead>\n",
       "  <tbody>\n",
       "    <tr>\n",
       "      <th>0</th>\n",
       "      <td>82529</td>\n",
       "      <td>6090</td>\n",
       "      <td>665</td>\n",
       "      <td>2311</td>\n",
       "    </tr>\n",
       "    <tr>\n",
       "      <th>1</th>\n",
       "      <td>98050</td>\n",
       "      <td>3383</td>\n",
       "      <td>315</td>\n",
       "      <td>1743</td>\n",
       "    </tr>\n",
       "    <tr>\n",
       "      <th>2</th>\n",
       "      <td>82696</td>\n",
       "      <td>4168</td>\n",
       "      <td>458</td>\n",
       "      <td>1798</td>\n",
       "    </tr>\n",
       "    <tr>\n",
       "      <th>3</th>\n",
       "      <td>109914</td>\n",
       "      <td>4911</td>\n",
       "      <td>487</td>\n",
       "      <td>1696</td>\n",
       "    </tr>\n",
       "    <tr>\n",
       "      <th>4</th>\n",
       "      <td>108458</td>\n",
       "      <td>5988</td>\n",
       "      <td>441</td>\n",
       "      <td>1544</td>\n",
       "    </tr>\n",
       "  </tbody>\n",
       "</table>\n",
       "</div>"
      ],
      "text/plain": [
       "   Impression  Click  Purchase  Earning\n",
       "0       82529   6090       665     2311\n",
       "1       98050   3383       315     1743\n",
       "2       82696   4168       458     1798\n",
       "3      109914   4911       487     1696\n",
       "4      108458   5988       441     1544"
      ]
     },
     "execution_count": 3,
     "metadata": {},
     "output_type": "execute_result"
    }
   ],
   "source": [
    "control_df.head()"
   ]
  },
  {
   "cell_type": "code",
   "execution_count": 4,
   "id": "a49633c1",
   "metadata": {},
   "outputs": [
    {
     "data": {
      "text/html": [
       "<div>\n",
       "<style scoped>\n",
       "    .dataframe tbody tr th:only-of-type {\n",
       "        vertical-align: middle;\n",
       "    }\n",
       "\n",
       "    .dataframe tbody tr th {\n",
       "        vertical-align: top;\n",
       "    }\n",
       "\n",
       "    .dataframe thead th {\n",
       "        text-align: right;\n",
       "    }\n",
       "</style>\n",
       "<table border=\"1\" class=\"dataframe\">\n",
       "  <thead>\n",
       "    <tr style=\"text-align: right;\">\n",
       "      <th></th>\n",
       "      <th>Impression</th>\n",
       "      <th>Click</th>\n",
       "      <th>Purchase</th>\n",
       "      <th>Earning</th>\n",
       "    </tr>\n",
       "  </thead>\n",
       "  <tbody>\n",
       "    <tr>\n",
       "      <th>0</th>\n",
       "      <td>120104</td>\n",
       "      <td>3217</td>\n",
       "      <td>702</td>\n",
       "      <td>1940</td>\n",
       "    </tr>\n",
       "    <tr>\n",
       "      <th>1</th>\n",
       "      <td>134776</td>\n",
       "      <td>3635</td>\n",
       "      <td>834</td>\n",
       "      <td>2929</td>\n",
       "    </tr>\n",
       "    <tr>\n",
       "      <th>2</th>\n",
       "      <td>107807</td>\n",
       "      <td>3057</td>\n",
       "      <td>423</td>\n",
       "      <td>2526</td>\n",
       "    </tr>\n",
       "    <tr>\n",
       "      <th>3</th>\n",
       "      <td>116445</td>\n",
       "      <td>4650</td>\n",
       "      <td>429</td>\n",
       "      <td>2281</td>\n",
       "    </tr>\n",
       "    <tr>\n",
       "      <th>4</th>\n",
       "      <td>145083</td>\n",
       "      <td>5201</td>\n",
       "      <td>750</td>\n",
       "      <td>2782</td>\n",
       "    </tr>\n",
       "  </tbody>\n",
       "</table>\n",
       "</div>"
      ],
      "text/plain": [
       "   Impression  Click  Purchase  Earning\n",
       "0      120104   3217       702     1940\n",
       "1      134776   3635       834     2929\n",
       "2      107807   3057       423     2526\n",
       "3      116445   4650       429     2281\n",
       "4      145083   5201       750     2782"
      ]
     },
     "execution_count": 4,
     "metadata": {},
     "output_type": "execute_result"
    }
   ],
   "source": [
    "test_df.head()"
   ]
  },
  {
   "cell_type": "code",
   "execution_count": 5,
   "id": "56ed1c0c",
   "metadata": {},
   "outputs": [
    {
     "data": {
      "text/plain": [
       "Impression    int64\n",
       "Click         int64\n",
       "Purchase      int64\n",
       "Earning       int64\n",
       "dtype: object"
      ]
     },
     "execution_count": 5,
     "metadata": {},
     "output_type": "execute_result"
    }
   ],
   "source": [
    "control_df.dtypes"
   ]
  },
  {
   "cell_type": "code",
   "execution_count": 6,
   "id": "ef2c966f",
   "metadata": {
    "scrolled": true
   },
   "outputs": [
    {
     "data": {
      "text/plain": [
       "Impression    int64\n",
       "Click         int64\n",
       "Purchase      int64\n",
       "Earning       int64\n",
       "dtype: object"
      ]
     },
     "execution_count": 6,
     "metadata": {},
     "output_type": "execute_result"
    }
   ],
   "source": [
    "test_df.dtypes"
   ]
  },
  {
   "cell_type": "code",
   "execution_count": 7,
   "id": "e819c29c",
   "metadata": {},
   "outputs": [],
   "source": [
    "import seaborn as sns\n",
    "import matplotlib.pyplot as  plt\n",
    "%matplotlib inline\n",
    "from scipy.stats import skew, kurtosis"
   ]
  },
  {
   "cell_type": "code",
   "execution_count": 8,
   "id": "0b059f27",
   "metadata": {},
   "outputs": [],
   "source": [
    "def column_statistics(input_df, columns):\n",
    "    '''\n",
    "    Calculate statistics for the specified columns in a DataFrame.\n",
    "\n",
    "    Args:\n",
    "        input_df (pd.DataFrame): The DataFrame containing the numerical columns to be analyzed.\n",
    "        columns (list of str): A list of column names to analyze.\n",
    "\n",
    "    Returns:\n",
    "        pd.DataFrame: A DataFrame containing statistics for the specified columns.\n",
    "\n",
    "    Example:\n",
    "        stats = column_statistics(data_frame, ['age', 'income'])\n",
    "    '''\n",
    "    \n",
    "    stats_dict = {}\n",
    "    \n",
    "    invalid_columns = [col for col in columns if col not in input_df.columns]\n",
    "    if invalid_columns:\n",
    "        print(\"Invalid columns:\", invalid_columns)\n",
    "        return\n",
    "    \n",
    "    for column in columns:\n",
    "        # Check for null values\n",
    "        null_count = input_df[column].isnull().sum()\n",
    "        \n",
    "        # Replace non-numeric values with NaN\n",
    "        numeric_values = pd.to_numeric(input_df[column], errors='coerce')\n",
    "        \n",
    "        count_of_zeros = (numeric_values == 0).sum()\n",
    "        std = numeric_values.std()\n",
    "        variance = numeric_values.var()\n",
    "        mean = numeric_values.mean()\n",
    "        median = numeric_values.median()\n",
    "        kurt = kurtosis(numeric_values).round(2)\n",
    "        skewness = skew(numeric_values).round(2)\n",
    "        maximum = numeric_values.max()\n",
    "        minumum = numeric_values.min()\n",
    "        \n",
    "        stats_dict[column] = {\n",
    "            'Count of Zeros': count_of_zeros,\n",
    "            'Standard Deviation': std,\n",
    "            'Variance': variance,\n",
    "            'Mean': mean,\n",
    "            'Median': median,\n",
    "            'Kurtosis': kurt,\n",
    "            'Skewness': skewness,\n",
    "            'Max Value': maximum,\n",
    "            'Min Value': minumum,\n",
    "            'Null Values': null_count\n",
    "        }\n",
    "        \n",
    "    return pd.DataFrame.from_dict(stats_dict, orient='index')\n"
   ]
  },
  {
   "cell_type": "code",
   "execution_count": 9,
   "id": "e91d6a37",
   "metadata": {},
   "outputs": [
    {
     "data": {
      "text/html": [
       "<div>\n",
       "<style scoped>\n",
       "    .dataframe tbody tr th:only-of-type {\n",
       "        vertical-align: middle;\n",
       "    }\n",
       "\n",
       "    .dataframe tbody tr th {\n",
       "        vertical-align: top;\n",
       "    }\n",
       "\n",
       "    .dataframe thead th {\n",
       "        text-align: right;\n",
       "    }\n",
       "</style>\n",
       "<table border=\"1\" class=\"dataframe\">\n",
       "  <thead>\n",
       "    <tr style=\"text-align: right;\">\n",
       "      <th></th>\n",
       "      <th>Count of Zeros</th>\n",
       "      <th>Standard Deviation</th>\n",
       "      <th>Variance</th>\n",
       "      <th>Mean</th>\n",
       "      <th>Median</th>\n",
       "      <th>Kurtosis</th>\n",
       "      <th>Skewness</th>\n",
       "      <th>Max Value</th>\n",
       "      <th>Min Value</th>\n",
       "      <th>Null Values</th>\n",
       "    </tr>\n",
       "  </thead>\n",
       "  <tbody>\n",
       "    <tr>\n",
       "      <th>Impression</th>\n",
       "      <td>0</td>\n",
       "      <td>20302.1230</td>\n",
       "      <td>412176197.6385</td>\n",
       "      <td>101711.4500</td>\n",
       "      <td>99790.5000</td>\n",
       "      <td>0.2200</td>\n",
       "      <td>-0.0000</td>\n",
       "      <td>147539</td>\n",
       "      <td>45476</td>\n",
       "      <td>0</td>\n",
       "    </tr>\n",
       "    <tr>\n",
       "      <th>Click</th>\n",
       "      <td>0</td>\n",
       "      <td>1329.9578</td>\n",
       "      <td>1768787.6763</td>\n",
       "      <td>5100.6250</td>\n",
       "      <td>5001.5000</td>\n",
       "      <td>-0.5300</td>\n",
       "      <td>0.1700</td>\n",
       "      <td>7959</td>\n",
       "      <td>2190</td>\n",
       "      <td>0</td>\n",
       "    </tr>\n",
       "    <tr>\n",
       "      <th>Purchase</th>\n",
       "      <td>0</td>\n",
       "      <td>134.1105</td>\n",
       "      <td>17985.6308</td>\n",
       "      <td>550.9000</td>\n",
       "      <td>531.5000</td>\n",
       "      <td>-0.6500</td>\n",
       "      <td>-0.0300</td>\n",
       "      <td>802</td>\n",
       "      <td>267</td>\n",
       "      <td>0</td>\n",
       "    </tr>\n",
       "    <tr>\n",
       "      <th>Earning</th>\n",
       "      <td>0</td>\n",
       "      <td>302.8683</td>\n",
       "      <td>91729.2250</td>\n",
       "      <td>1908.5750</td>\n",
       "      <td>1975.0000</td>\n",
       "      <td>-0.4800</td>\n",
       "      <td>-0.2700</td>\n",
       "      <td>2497</td>\n",
       "      <td>1254</td>\n",
       "      <td>0</td>\n",
       "    </tr>\n",
       "  </tbody>\n",
       "</table>\n",
       "</div>"
      ],
      "text/plain": [
       "            Count of Zeros  Standard Deviation       Variance        Mean  \\\n",
       "Impression               0          20302.1230 412176197.6385 101711.4500   \n",
       "Click                    0           1329.9578   1768787.6763   5100.6250   \n",
       "Purchase                 0            134.1105     17985.6308    550.9000   \n",
       "Earning                  0            302.8683     91729.2250   1908.5750   \n",
       "\n",
       "               Median  Kurtosis  Skewness  Max Value  Min Value  Null Values  \n",
       "Impression 99790.5000    0.2200   -0.0000     147539      45476            0  \n",
       "Click       5001.5000   -0.5300    0.1700       7959       2190            0  \n",
       "Purchase     531.5000   -0.6500   -0.0300        802        267            0  \n",
       "Earning     1975.0000   -0.4800   -0.2700       2497       1254            0  "
      ]
     },
     "execution_count": 9,
     "metadata": {},
     "output_type": "execute_result"
    }
   ],
   "source": [
    "column_statistics(input_df=control_df, columns=control_df.columns)"
   ]
  },
  {
   "cell_type": "code",
   "execution_count": 10,
   "id": "8e84bf57",
   "metadata": {},
   "outputs": [
    {
     "data": {
      "text/html": [
       "<div>\n",
       "<style scoped>\n",
       "    .dataframe tbody tr th:only-of-type {\n",
       "        vertical-align: middle;\n",
       "    }\n",
       "\n",
       "    .dataframe tbody tr th {\n",
       "        vertical-align: top;\n",
       "    }\n",
       "\n",
       "    .dataframe thead th {\n",
       "        text-align: right;\n",
       "    }\n",
       "</style>\n",
       "<table border=\"1\" class=\"dataframe\">\n",
       "  <thead>\n",
       "    <tr style=\"text-align: right;\">\n",
       "      <th></th>\n",
       "      <th>Count of Zeros</th>\n",
       "      <th>Standard Deviation</th>\n",
       "      <th>Variance</th>\n",
       "      <th>Mean</th>\n",
       "      <th>Median</th>\n",
       "      <th>Kurtosis</th>\n",
       "      <th>Skewness</th>\n",
       "      <th>Max Value</th>\n",
       "      <th>Min Value</th>\n",
       "      <th>Null Values</th>\n",
       "    </tr>\n",
       "  </thead>\n",
       "  <tbody>\n",
       "    <tr>\n",
       "      <th>Impression</th>\n",
       "      <td>0</td>\n",
       "      <td>18807.4666</td>\n",
       "      <td>353720800.5071</td>\n",
       "      <td>120512.4250</td>\n",
       "      <td>119291.5000</td>\n",
       "      <td>0.1000</td>\n",
       "      <td>-0.1800</td>\n",
       "      <td>158606</td>\n",
       "      <td>79034</td>\n",
       "      <td>0</td>\n",
       "    </tr>\n",
       "    <tr>\n",
       "      <th>Click</th>\n",
       "      <td>0</td>\n",
       "      <td>923.0718</td>\n",
       "      <td>852061.4846</td>\n",
       "      <td>3967.5500</td>\n",
       "      <td>3931.5000</td>\n",
       "      <td>-0.0400</td>\n",
       "      <td>0.1000</td>\n",
       "      <td>6020</td>\n",
       "      <td>1837</td>\n",
       "      <td>0</td>\n",
       "    </tr>\n",
       "    <tr>\n",
       "      <th>Purchase</th>\n",
       "      <td>0</td>\n",
       "      <td>161.1752</td>\n",
       "      <td>25977.4333</td>\n",
       "      <td>582.0500</td>\n",
       "      <td>551.0000</td>\n",
       "      <td>-1.0400</td>\n",
       "      <td>0.2200</td>\n",
       "      <td>890</td>\n",
       "      <td>312</td>\n",
       "      <td>0</td>\n",
       "    </tr>\n",
       "    <tr>\n",
       "      <th>Earning</th>\n",
       "      <td>0</td>\n",
       "      <td>282.7079</td>\n",
       "      <td>79923.7635</td>\n",
       "      <td>2514.9250</td>\n",
       "      <td>2544.5000</td>\n",
       "      <td>-0.4800</td>\n",
       "      <td>-0.0400</td>\n",
       "      <td>3171</td>\n",
       "      <td>1940</td>\n",
       "      <td>0</td>\n",
       "    </tr>\n",
       "  </tbody>\n",
       "</table>\n",
       "</div>"
      ],
      "text/plain": [
       "            Count of Zeros  Standard Deviation       Variance        Mean  \\\n",
       "Impression               0          18807.4666 353720800.5071 120512.4250   \n",
       "Click                    0            923.0718    852061.4846   3967.5500   \n",
       "Purchase                 0            161.1752     25977.4333    582.0500   \n",
       "Earning                  0            282.7079     79923.7635   2514.9250   \n",
       "\n",
       "                Median  Kurtosis  Skewness  Max Value  Min Value  Null Values  \n",
       "Impression 119291.5000    0.1000   -0.1800     158606      79034            0  \n",
       "Click        3931.5000   -0.0400    0.1000       6020       1837            0  \n",
       "Purchase      551.0000   -1.0400    0.2200        890        312            0  \n",
       "Earning      2544.5000   -0.4800   -0.0400       3171       1940            0  "
      ]
     },
     "execution_count": 10,
     "metadata": {},
     "output_type": "execute_result"
    }
   ],
   "source": [
    "column_statistics(input_df=test_df, columns=test_df.columns)"
   ]
  },
  {
   "cell_type": "markdown",
   "id": "b661f1e1",
   "metadata": {},
   "source": [
    "* There are no null values in either the control or test dataframes.\n",
    "* There no zero values in either the control or test dataframes."
   ]
  },
  {
   "cell_type": "markdown",
   "id": "2dbf5db5",
   "metadata": {},
   "source": [
    "# 2. A/B TESTING"
   ]
  },
  {
   "cell_type": "markdown",
   "id": "c64a46ce",
   "metadata": {},
   "source": [
    "## 2.1 Assumption Check"
   ]
  },
  {
   "cell_type": "markdown",
   "id": "ea03d54b",
   "metadata": {},
   "source": [
    "### 2.1.1 Visual observation of distributions"
   ]
  },
  {
   "cell_type": "code",
   "execution_count": 11,
   "id": "e1e2f883",
   "metadata": {
    "scrolled": true
   },
   "outputs": [
    {
     "data": {
      "image/png": "[encoded data removed]",
      "text/plain": [
       "<Figure size 1200x400 with 2 Axes>"
      ]
     },
     "metadata": {},
     "output_type": "display_data"
    },
    {
     "data": {
      "image/png": "[encoded data removed]",
      "text/plain": [
       "<Figure size 1200x400 with 2 Axes>"
      ]
     },
     "metadata": {},
     "output_type": "display_data"
    },
    {
     "data": {
      "image/png": "[encoded data removed]",
      "text/plain": [
       "<Figure size 1200x400 with 2 Axes>"
      ]
     },
     "metadata": {},
     "output_type": "display_data"
    },
    {
     "data": {
      "image/png": "[encoded data removed]",
      "text/plain": [
       "<Figure size 1200x400 with 2 Axes>"
      ]
     },
     "metadata": {},
     "output_type": "display_data"
    }
   ],
   "source": [
    "feature_names = ['Impression', 'Click', 'Purchase', 'Earning']  # Add all the feature names you want to inspect\n",
    "\n",
    "for feature in feature_names:\n",
    "    # Extract the columns from both dataframes\n",
    "    data1 = control_df[feature]\n",
    "    data2 = test_df[feature]\n",
    "\n",
    "    # Create subplots for side-by-side comparisons\n",
    "    fig, axes = plt.subplots(nrows=1, ncols=2, figsize=(12, 4))\n",
    "\n",
    "    # Plot distribution plot for control\n",
    "    sns.distplot(data1, bins=20, color='blue', ax=axes[0])\n",
    "    axes[0].set_title(f'Distribution in control: {feature}')\n",
    "    \n",
    "    # Plot distribution plot for test\n",
    "    sns.distplot(data2, bins=20, color='green', ax=axes[1])\n",
    "    axes[1].set_title(f'Distribution in test: {feature}')\n"
   ]
  },
  {
   "cell_type": "markdown",
   "id": "ea22eaf2",
   "metadata": {},
   "source": [
    "================================================================================================"
   ]
  },
  {
   "cell_type": "markdown",
   "id": "cc16e46e",
   "metadata": {},
   "source": [
    "================================================================================================"
   ]
  },
  {
   "cell_type": "markdown",
   "id": "0b1a1a97",
   "metadata": {},
   "source": [
    "### 2.1.2 Assumption Check With Shapiro-Wilk & Levene's"
   ]
  },
  {
   "cell_type": "code",
   "execution_count": 13,
   "id": "7181f41c",
   "metadata": {},
   "outputs": [
    {
     "name": "stdout",
     "output_type": "stream",
     "text": [
      "Feature: Impression\n",
      "Shapiro-Wilk Test (Control): Statistic = 0.9696728587150574, p-value = 0.35141074657440186\n",
      "Shapiro-Wilk Test (Test): Statistic = 0.9719780683517456, p-value = 0.41482648253440857\n",
      "Levene Test: Statistic = 0.5864209562748677, p-value = 0.446117621053145\n",
      "---\n",
      "Feature: Click\n",
      "Shapiro-Wilk Test (Control): Statistic = 0.9844093918800354, p-value = 0.8458318114280701\n",
      "Shapiro-Wilk Test (Test): Statistic = 0.9896464347839355, p-value = 0.9699560403823853\n",
      "Levene Test: Statistic = 6.307972266621279, p-value = 0.014085731864525905\n",
      "---\n",
      "Feature: Purchase\n",
      "Shapiro-Wilk Test (Control): Statistic = 0.9773738980293274, p-value = 0.5928794145584106\n",
      "Shapiro-Wilk Test (Test): Statistic = 0.9589442610740662, p-value = 0.1541200578212738\n",
      "Levene Test: Statistic = 2.640298470042385, p-value = 0.10821824555495528\n",
      "---\n",
      "Feature: Earning\n",
      "Shapiro-Wilk Test (Control): Statistic = 0.9756278395652771, p-value = 0.5312926769256592\n",
      "Shapiro-Wilk Test (Test): Statistic = 0.9780324101448059, p-value = 0.6168098449707031\n",
      "Levene Test: Statistic = 0.3525217862959926, p-value = 0.5544070584563752\n",
      "---\n"
     ]
    }
   ],
   "source": [
    "from scipy.stats import shapiro, levene\n",
    "import pandas as pd\n",
    "\n",
    "# Assuming you have two dataframes control_df and test_df\n",
    "# List of feature names you want to check\n",
    "for feature in feature_names:\n",
    "    # Extract the corresponding columns from both dataframes\n",
    "    control_data = control_df[feature]\n",
    "    test_data = test_df[feature]\n",
    "\n",
    "    # Shapiro-Wilk Normality Test\n",
    "    shapiro_stat_control, shapiro_p_control = shapiro(control_data)\n",
    "    shapiro_stat_test, shapiro_p_test = shapiro(test_data)\n",
    "\n",
    "    # Levene's Test for Homogeneity of Variance\n",
    "    levene_stat, levene_p = levene(control_data, test_data)\n",
    "\n",
    "    # Print results for each feature\n",
    "    print(f'Feature: {feature}')\n",
    "    print(f'Shapiro-Wilk Test (Control): Statistic = {shapiro_stat_control}, p-value = {shapiro_p_control}')\n",
    "    print(f'Shapiro-Wilk Test (Test): Statistic = {shapiro_stat_test}, p-value = {shapiro_p_test}')\n",
    "    print(f'Levene Test: Statistic = {levene_stat}, p-value = {levene_p}')\n",
    "    print('---')\n"
   ]
  },
  {
   "cell_type": "markdown",
   "id": "0d8dd9ae",
   "metadata": {},
   "source": [
    "### 2.1.3 Interpretaions of the Assumption Check Results"
   ]
  },
  {
   "cell_type": "markdown",
   "id": "7599a3f2",
   "metadata": {},
   "source": [
    "#### Impression, Purchase, Earning:\n",
    "\n",
    "* Both p-values(control and test) in Shapiro-Wilk Test are greater than 0.05. We fail to reject null hypothesis(\"The sample distribution is not significantly different from a theoretical normal distribution.\"), we can assume that `Impression, Purchase, Earning` columns are normally distrubuted.\n",
    "<br><br>\n",
    "* p-value is greater than 0.05  in Levene's Test. This indicates that; we fail to reject null hypothesis(\"There is no statistically significant difference in the variances of the groups being compared;\").\n",
    "<br><br>\n",
    "* Impression, Purchase, Earning columns pass the assumption check so these columns will be tested with t-test(paramatric test)\n",
    "\n",
    "#### Click:\n",
    "\n",
    "* Both p-values(control and test) in Shapiro-Wilk Test are greater than 0.05. We fail to reject null hypothesis(\"The sample distribution is not significantly different from a theoretical normal distribution.\"). This column is normally distributed.\n",
    "<br><br>\n",
    "* The p-value from Levene's Test is less than 0.05. This indicates that we can reject the null hypothesis, which states that 'there is no statistically significant difference in the variances of the groups being compared.' In other words, there is a statistically significant difference in the variances..\n",
    "<br><br>\n",
    "* Since the `Click` feature has statistically significant difference in the variances and normally distributed we are gonna test with **\"Welch's t-test\"**. This test method is a modification of the t-test that does not assume equal variances. It is robust to heteroscedasticity.\n"
   ]
  },
  {
   "cell_type": "markdown",
   "id": "61c617de",
   "metadata": {},
   "source": [
    "## 2.2 Test Implementations To The Features\n",
    "\n",
    "* **Impression, Purchase and Earning features will be tested with standard independent samples t-test.**\n",
    "* **Click column will be tested with Welch's t-test**\n",
    "* **New features wil be created and tested.(e.g., conversion_rate(earning/impression))**\n"
   ]
  },
  {
   "cell_type": "code",
   "execution_count": 15,
   "id": "e613a8dc",
   "metadata": {},
   "outputs": [],
   "source": [
    "from scipy.stats import ttest_ind"
   ]
  },
  {
   "cell_type": "markdown",
   "id": "06c9b8a0",
   "metadata": {},
   "source": [
    "### Impression"
   ]
  },
  {
   "cell_type": "code",
   "execution_count": 16,
   "id": "47eef6bb",
   "metadata": {
    "scrolled": true
   },
   "outputs": [
    {
     "name": "stdout",
     "output_type": "stream",
     "text": [
      "t-statistic: -4.296602570348743\n",
      "p-value: 4.954665932520585e-05\n",
      "************************************************** \n",
      "\n",
      "Control data mean: 101711.45\n",
      "Test data mean:    120512.425\n"
     ]
    }
   ],
   "source": [
    "impression_stat, impression_pval = ttest_ind(control_df['Impression'], test_df['Impression'])\n",
    "\n",
    "print(\"t-statistic:\", impression_stat)\n",
    "print(\"p-value:\", impression_pval)\n",
    "print(\"**\"*25, '\\n')\n",
    "\n",
    "print (f'Control data mean: {control_df[\"Impression\"].mean()}\\nTest data mean:    {test_df[\"Impression\"].mean()}')"
   ]
  },
  {
   "cell_type": "markdown",
   "id": "cabdb892",
   "metadata": {},
   "source": [
    "* Null Hypothesis (H0):There is no  a significant difference in the number of impressions between the control and test groups.\n",
    "* Alternative Hypothesis (H1): There is a significant difference in the number of impressions between the control and test groups.\n",
    "\n",
    "p-value is a very small number, we have strong evidence to reject null hypothesis. There is significant difference in the number of impressions between the control and test groups.\n",
    "\n",
    "**We get more impressions in \"Average Bidding\"**"
   ]
  },
  {
   "cell_type": "markdown",
   "id": "d33edf10",
   "metadata": {},
   "source": [
    "### Purchase"
   ]
  },
  {
   "cell_type": "code",
   "execution_count": 17,
   "id": "afcb8bb6",
   "metadata": {},
   "outputs": [
    {
     "name": "stdout",
     "output_type": "stream",
     "text": [
      "t-statistic: -0.9396022967737262\n",
      "p-value: 0.3503222763935574\n",
      "************************************************** \n",
      "\n",
      "Control data mean: 550.9\n",
      "Test data mean:    582.05\n"
     ]
    }
   ],
   "source": [
    "purchase_stat, purchase_pval = ttest_ind(control_df['Purchase'], test_df['Purchase'])\n",
    "\n",
    "print(\"t-statistic:\", purchase_stat)\n",
    "print(\"p-value:\", purchase_pval)\n",
    "print(\"**\"*25, '\\n')\n",
    "\n",
    "print (f'Control data mean: {control_df[\"Purchase\"].mean()}\\nTest data mean:    {test_df[\"Purchase\"].mean()}')"
   ]
  },
  {
   "cell_type": "markdown",
   "id": "5d2b1fd5",
   "metadata": {},
   "source": [
    "* Null Hypothesis (H0): There is no a significant difference in the number of purchases between the control and test groups.\n",
    "* Alternative Hypothesis (H1): There is a significant difference in the number of purchases  between the control and test groups.\n",
    "\n",
    "1. t-statistic -0.93 indicates that control group is slightly lower than the mean  of the test group.\n",
    "2. p-value is greater than 0.05 so we cannot reject null hypothesis.\n",
    "\n",
    "**There is no significant difference between \"Average Bidding\" and \"Maximum Bidding\"**"
   ]
  },
  {
   "cell_type": "markdown",
   "id": "4e7b9543",
   "metadata": {},
   "source": [
    "### Earning"
   ]
  },
  {
   "cell_type": "code",
   "execution_count": 18,
   "id": "ed7d9c36",
   "metadata": {},
   "outputs": [
    {
     "name": "stdout",
     "output_type": "stream",
     "text": [
      "t-statistic: -9.256092651165002\n",
      "p-value: 3.440360154842526e-14\n",
      "************************************************** \n",
      "\n",
      "Control data mean: 1908.575\n",
      "Test data mean:    2514.925\n"
     ]
    }
   ],
   "source": [
    "earning_stat, earning_pval = ttest_ind(control_df['Earning'], test_df['Earning'])\n",
    "\n",
    "print(\"t-statistic:\", earning_stat)\n",
    "print(\"p-value:\", earning_pval)\n",
    "print(\"**\"*25, '\\n')\n",
    "\n",
    "print (f'Control data mean: {control_df[\"Earning\"].mean()}\\nTest data mean:    {test_df[\"Earning\"].mean()}')"
   ]
  },
  {
   "cell_type": "markdown",
   "id": "9deb31c1",
   "metadata": {},
   "source": [
    "* **Null Hypothesis (H0):** There is no a significant difference in the amount of earnings between the control and test groups.\n",
    "* **Alternative Hypothesis (H1):** There is a significant difference in the amount of earnings between the control and test groups.\n",
    "\n",
    "1. t-statistic -9.25 indicates that the mean of control group is significantly lower than the test group.\n",
    "2. p-value is so small which means that we can reject null hypothesis.\n",
    "\n",
    "**There is a significant difference in the amount of earnings between control and test. `Average Bidding` has much more earnings than `Maximum Bidding`**"
   ]
  },
  {
   "cell_type": "markdown",
   "id": "0cc2937e",
   "metadata": {},
   "source": [
    "### Click"
   ]
  },
  {
   "cell_type": "code",
   "execution_count": 19,
   "id": "1ada1543",
   "metadata": {},
   "outputs": [
    {
     "name": "stdout",
     "output_type": "stream",
     "text": [
      "Welch's t-statistic: 4.4265730933875185\n",
      "p-value: 3.4713015172897035e-05\n",
      "************************************************** \n",
      "\n",
      "Control data mean: 5100.625\n",
      "Test data mean:    3967.55\n"
     ]
    }
   ],
   "source": [
    "# Perform Welch's t-test for the 'click' column\n",
    "click_stat, click_pval = ttest_ind(control_df['Click'], test_df['Click'], equal_var=False)\n",
    "\n",
    "print(\"Welch's t-statistic:\", click_stat)\n",
    "print(\"p-value:\", click_pval)\n",
    "print(\"**\" * 25, '\\n')\n",
    "\n",
    "print(f'Control data mean: {control_df[\"Click\"].mean()}\\nTest data mean:    {test_df[\"Click\"].mean()}')\n"
   ]
  },
  {
   "cell_type": "markdown",
   "id": "bfda1a48",
   "metadata": {},
   "source": [
    "* Null Hypothesis (H0): There is no a significant difference in the number of clicks between the control and test groups.\n",
    "* Alternative Hypothesis (H1): There is a significant difference in the number of clicks between the control and test groups.\n",
    "\n",
    "1. t-statistic 4.4 indicates that the mean of control group is significantly higher than the test group.\n",
    "2. p-value is so small which means that we can reject null hypothesis.\n",
    "\n",
    "**There is a significant difference in the number of clicks between control and test.`Average Bidding` has less clicks than `Maximum Bidding`**"
   ]
  },
  {
   "cell_type": "markdown",
   "id": "df766747",
   "metadata": {},
   "source": [
    "### conversion_rate = earning/impression"
   ]
  },
  {
   "cell_type": "code",
   "execution_count": 22,
   "id": "56a846fc",
   "metadata": {},
   "outputs": [],
   "source": [
    "# How many earnings were made for each impression.\n",
    "control_df['conversion_rate'] = control_df['Earning'] / control_df['Impression'] \n",
    "test_df['conversion_rate'] = test_df['Earning'] / test_df['Impression']"
   ]
  },
  {
   "cell_type": "code",
   "execution_count": 23,
   "id": "7a5dd48b",
   "metadata": {},
   "outputs": [
    {
     "name": "stdout",
     "output_type": "stream",
     "text": [
      "t-statistic: -1.890283586128312\n",
      "p-value: 0.06243446739066827\n",
      "************************************************** \n",
      "\n",
      "Control data mean: 0.01947302266076251\n",
      "Test data mean:    0.021397506655890484\n"
     ]
    }
   ],
   "source": [
    "conversion_stat, conversion_pval = ttest_ind(control_df['conversion_rate'], test_df['conversion_rate'])\n",
    "\n",
    "print(\"t-statistic:\", conversion_stat)\n",
    "print(\"p-value:\", conversion_pval)\n",
    "print(\"**\"*25, '\\n')\n",
    "\n",
    "print (f'Control data mean: {control_df[\"conversion_rate\"].mean()}\\nTest data mean:    {test_df[\"conversion_rate\"].mean()}')"
   ]
  },
  {
   "cell_type": "markdown",
   "id": "a495a68f",
   "metadata": {},
   "source": [
    "* **Null Hypothesis (H0):** There is no a significant difference in the conversion rates between the control and test groups.\n",
    "* **Alternative Hypothesis (H1):** There is a significant difference in the conversion rates between the control and test groups.\n",
    "\n",
    "1. t-statistic -1.89 indicates that the mean of control group is slightly less than the test group\n",
    "2. p-value is 0.06, which is just above the significance level of 0.05. This means that the p-value is not significantly smaller than 0.05, so we cannot reject the null hypothesis.\n",
    "\n",
    "**There is no a significant difference in the conversion rates between `Average Bidding` and `Maximum Bidding`**"
   ]
  },
  {
   "cell_type": "code",
   "execution_count": null,
   "id": "a654adb9",
   "metadata": {},
   "outputs": [],
   "source": []
  },
  {
   "cell_type": "code",
   "execution_count": null,
   "id": "2c192669",
   "metadata": {},
   "outputs": [],
   "source": []
  },
  {
   "cell_type": "code",
   "execution_count": null,
   "id": "9479a741",
   "metadata": {},
   "outputs": [],
   "source": []
  },
  {
   "cell_type": "code",
   "execution_count": null,
   "id": "67f288a7",
   "metadata": {},
   "outputs": [],
   "source": []
  }
 ],
 "metadata": {
  "kernelspec": {
   "display_name": "Python 3 (ipykernel)",
   "language": "python",
   "name": "python3"
  },
  "language_info": {
   "codemirror_mode": {
    "name": "ipython",
    "version": 3
   },
   "file_extension": ".py",
   "mimetype": "text/x-python",
   "name": "python",
   "nbconvert_exporter": "python",
   "pygments_lexer": "ipython3",
   "version": "3.9.13"
  },
  "varInspector": {
   "cols": {
    "lenName": 16,
    "lenType": 16,
    "lenVar": 40
   },
   "kernels_config": {
    "python": {
     "delete_cmd_postfix": "",
     "delete_cmd_prefix": "del ",
     "library": "var_list.py",
     "varRefreshCmd": "print(var_dic_list())"
    },
    "r": {
     "delete_cmd_postfix": ") ",
     "delete_cmd_prefix": "rm(",
     "library": "var_list.r",
     "varRefreshCmd": "cat(var_dic_list()) "
    }
   },
   "types_to_exclude": [
    "module",
    "function",
    "builtin_function_or_method",
    "instance",
    "_Feature"
   ],
   "window_display": false
  }
 },
 "nbformat": 4,
 "nbformat_minor": 5
}
